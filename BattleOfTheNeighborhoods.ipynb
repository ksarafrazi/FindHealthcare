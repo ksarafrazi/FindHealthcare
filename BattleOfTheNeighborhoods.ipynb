{
 "cells": [
  {
   "cell_type": "markdown",
   "metadata": {},
   "source": [
    "# The Battle of Neighborhoods\n",
    "## Introduction\n",
    "Having access to health care is an important part of the modern age life. The goal of the project is to create platfrom for exploring medical centers in the city of Melbourne. \n",
    "We are trying to answer the following questions:\n",
    "1. What are the available facilities in a certain neigbourhood. \n",
    "2. Where is the closest place that provides a specific service (like an eye doctor) \n",
    "\n",
    "## Data\n",
    "We will use the Foursquare database to get geographical location of different facilities.\n",
    "\n",
    "Australian Postcode Location Data has been used, which is available at:\n",
    "http://www.corra.com.au/australian-postcode-location-data/\n",
    "\n",
    "Department of Health and Human Services hospital database has been used, which is available at:\n",
    "https://discover.data.vic.gov.au/dataset/hospital-locations-spatial\n",
    "\n",
    "## Methodology\n",
    "### Exploratory Analysis"
   ]
  },
  {
   "cell_type": "code",
   "execution_count": 2,
   "metadata": {},
   "outputs": [
    {
     "name": "stdout",
     "output_type": "stream",
     "text": [
      "Collecting folium\n",
      "  Downloading folium-0.11.0-py2.py3-none-any.whl (93 kB)\n",
      "Collecting branca>=0.3.0\n",
      "  Downloading branca-0.4.1-py3-none-any.whl (24 kB)\n",
      "Requirement already satisfied: numpy in c:\\users\\katayoon\\anaconda3\\lib\\site-packages (from folium) (1.18.5)\n",
      "Requirement already satisfied: requests in c:\\users\\katayoon\\anaconda3\\lib\\site-packages (from folium) (2.24.0)\n",
      "Requirement already satisfied: jinja2>=2.9 in c:\\users\\katayoon\\anaconda3\\lib\\site-packages (from folium) (2.11.2)\n",
      "Requirement already satisfied: idna<3,>=2.5 in c:\\users\\katayoon\\anaconda3\\lib\\site-packages (from requests->folium) (2.10)\n",
      "Requirement already satisfied: chardet<4,>=3.0.2 in c:\\users\\katayoon\\anaconda3\\lib\\site-packages (from requests->folium) (3.0.4)\n",
      "Requirement already satisfied: urllib3!=1.25.0,!=1.25.1,<1.26,>=1.21.1 in c:\\users\\katayoon\\anaconda3\\lib\\site-packages (from requests->folium) (1.25.9)\n",
      "Requirement already satisfied: certifi>=2017.4.17 in c:\\users\\katayoon\\anaconda3\\lib\\site-packages (from requests->folium) (2020.6.20)\n",
      "Requirement already satisfied: MarkupSafe>=0.23 in c:\\users\\katayoon\\anaconda3\\lib\\site-packages (from jinja2>=2.9->folium) (1.1.1)\n",
      "Installing collected packages: branca, folium\n",
      "Successfully installed branca-0.4.1 folium-0.11.0\n"
     ]
    }
   ],
   "source": [
    "!pip install folium"
   ]
  },
  {
   "cell_type": "code",
   "execution_count": 3,
   "metadata": {},
   "outputs": [],
   "source": [
    "import numpy as np\n",
    "import pandas as pd\n",
    "import folium\n",
    "\n",
    "from pandas.io.json import json_normalize"
   ]
  },
  {
   "cell_type": "code",
   "execution_count": 5,
   "metadata": {},
   "outputs": [
    {
     "data": {
      "text/html": [
       "<div>\n",
       "<style scoped>\n",
       "    .dataframe tbody tr th:only-of-type {\n",
       "        vertical-align: middle;\n",
       "    }\n",
       "\n",
       "    .dataframe tbody tr th {\n",
       "        vertical-align: top;\n",
       "    }\n",
       "\n",
       "    .dataframe thead th {\n",
       "        text-align: right;\n",
       "    }\n",
       "</style>\n",
       "<table border=\"1\" class=\"dataframe\">\n",
       "  <thead>\n",
       "    <tr style=\"text-align: right;\">\n",
       "      <th></th>\n",
       "      <th>suburb</th>\n",
       "      <th>lat</th>\n",
       "      <th>lon</th>\n",
       "    </tr>\n",
       "  </thead>\n",
       "  <tbody>\n",
       "    <tr>\n",
       "      <th>0</th>\n",
       "      <td>ABBEYARD</td>\n",
       "      <td>-36.976415</td>\n",
       "      <td>146.782515</td>\n",
       "    </tr>\n",
       "    <tr>\n",
       "      <th>1</th>\n",
       "      <td>ABBOTSFORD</td>\n",
       "      <td>-37.801781</td>\n",
       "      <td>144.998752</td>\n",
       "    </tr>\n",
       "    <tr>\n",
       "      <th>2</th>\n",
       "      <td>ABECKETT STREET</td>\n",
       "      <td>-37.809696</td>\n",
       "      <td>144.959314</td>\n",
       "    </tr>\n",
       "    <tr>\n",
       "      <th>3</th>\n",
       "      <td>ABERFELDIE</td>\n",
       "      <td>-37.756690</td>\n",
       "      <td>144.896259</td>\n",
       "    </tr>\n",
       "    <tr>\n",
       "      <th>4</th>\n",
       "      <td>ABERFELDY</td>\n",
       "      <td>-37.696566</td>\n",
       "      <td>146.364064</td>\n",
       "    </tr>\n",
       "  </tbody>\n",
       "</table>\n",
       "</div>"
      ],
      "text/plain": [
       "            suburb        lat         lon\n",
       "0         ABBEYARD -36.976415  146.782515\n",
       "1       ABBOTSFORD -37.801781  144.998752\n",
       "2  ABECKETT STREET -37.809696  144.959314\n",
       "3       ABERFELDIE -37.756690  144.896259\n",
       "4        ABERFELDY -37.696566  146.364064"
      ]
     },
     "execution_count": 5,
     "metadata": {},
     "output_type": "execute_result"
    }
   ],
   "source": [
    "#Read location data\n",
    "loc_df = pd.read_csv('Australian_Post_Codes_Lat_Lon.csv')\n",
    "#Keep only victoria\n",
    "loc_df = loc_df[loc_df['state'] == 'VIC'].reset_index(drop = True)\n",
    "#Remove unnecessary columns\n",
    "loc_df = loc_df.drop(['type','dc','state','postcode'],axis=1)\n",
    "loc_df = loc_df.groupby(['suburb']).first().reset_index()\n",
    "loc_df.head()"
   ]
  },
  {
   "cell_type": "code",
   "execution_count": 6,
   "metadata": {},
   "outputs": [],
   "source": [
    "#Setting up Foursquare\n",
    "CLIENT_ID = '33BAAMRJEAWBNA2YV0H4XEN3ARYAO2K31NVGJ0PRM4TJCFNW' # your Foursquare ID\n",
    "CLIENT_SECRET = 'QNFBDYE33KAIMZEG3MV5Y1YEZAGVPLMMWDCXLWVMHXOA40FP' # your Foursquare Secret\n",
    "VERSION = '20180604'\n",
    "LIMIT = 30\n",
    "\n"
   ]
  },
  {
   "cell_type": "markdown",
   "metadata": {},
   "source": [
    "#### Creat a map of Melbourne (with markers for subburbs that have Melbourne in them)"
   ]
  },
  {
   "cell_type": "code",
   "execution_count": 7,
   "metadata": {},
   "outputs": [
    {
     "data": {
      "text/html": [
       "<div style=\"width:100%;\"><div style=\"position:relative;width:100%;height:0;padding-bottom:60%;\"><span style=\"color:#565656\">Make this Notebook Trusted to load map: File -> Trust Notebook</span><iframe src=\"about:blank\" style=\"position:absolute;width:100%;height:100%;left:0;top:0;border:none !important;\" data-html=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 onload=\"this.contentDocument.open();this.contentDocument.write(atob(this.getAttribute('data-html')));this.contentDocument.close();\" allowfullscreen webkitallowfullscreen mozallowfullscreen></iframe></div></div>"
      ],
      "text/plain": [
       "<folium.folium.Map at 0x1a0ac978190>"
      ]
     },
     "execution_count": 7,
     "metadata": {},
     "output_type": "execute_result"
    }
   ],
   "source": [
    "import requests\n",
    "# create map of Melbourne using latitude and longitude values\n",
    "map = folium.Map(location=[-37.814563, 144.970267], zoom_start=10)\n",
    "\n",
    "df = loc_df[loc_df['suburb'].str.contains('MELBOURNE')].reset_index(drop = True)\n",
    "# add markers to map\n",
    "for lat, lng, sub in zip(df['lat'], df['lon'], df['suburb']):\n",
    "    label = sub\n",
    "    label = folium.Popup(label, parse_html=True)\n",
    "    folium.CircleMarker(\n",
    "        [lat, lng],\n",
    "        radius=5,\n",
    "        popup=label,\n",
    "        color='blue',\n",
    "        fill=True,\n",
    "        fill_color='#3186cc',\n",
    "        fill_opacity=0.7,\n",
    "        parse_html=False).add_to(map)  \n",
    "    \n",
    "map"
   ]
  },
  {
   "cell_type": "code",
   "execution_count": 8,
   "metadata": {},
   "outputs": [],
   "source": [
    "### Visulaize Hospitals in Melbourne"
   ]
  },
  {
   "cell_type": "code",
   "execution_count": 9,
   "metadata": {},
   "outputs": [
    {
     "name": "stderr",
     "output_type": "stream",
     "text": [
      "<ipython-input-9-d32c222d2b5d>:14: FutureWarning: pandas.io.json.json_normalize is deprecated, use pandas.json_normalize instead\n",
      "  dataframe = json_normalize(venues)[['name','location.lat','location.lng','categories']]\n"
     ]
    },
    {
     "data": {
      "text/html": [
       "<div>\n",
       "<style scoped>\n",
       "    .dataframe tbody tr th:only-of-type {\n",
       "        vertical-align: middle;\n",
       "    }\n",
       "\n",
       "    .dataframe tbody tr th {\n",
       "        vertical-align: top;\n",
       "    }\n",
       "\n",
       "    .dataframe thead th {\n",
       "        text-align: right;\n",
       "    }\n",
       "</style>\n",
       "<table border=\"1\" class=\"dataframe\">\n",
       "  <thead>\n",
       "    <tr style=\"text-align: right;\">\n",
       "      <th></th>\n",
       "      <th>name</th>\n",
       "      <th>location.lat</th>\n",
       "      <th>location.lng</th>\n",
       "      <th>categories</th>\n",
       "    </tr>\n",
       "  </thead>\n",
       "  <tbody>\n",
       "    <tr>\n",
       "      <th>0</th>\n",
       "      <td>Dr.J.Delgado Memorial Hospital</td>\n",
       "      <td>-37.815608</td>\n",
       "      <td>144.972043</td>\n",
       "      <td>[{'id': '4bf58dd8d48988d196941735', 'name': 'H...</td>\n",
       "    </tr>\n",
       "    <tr>\n",
       "      <th>1</th>\n",
       "      <td>Asian Medical Hospital</td>\n",
       "      <td>-37.815609</td>\n",
       "      <td>144.972044</td>\n",
       "      <td>[{'id': '4bf58dd8d48988d196941735', 'name': 'H...</td>\n",
       "    </tr>\n",
       "    <tr>\n",
       "      <th>2</th>\n",
       "      <td>Central Hospital</td>\n",
       "      <td>-37.812964</td>\n",
       "      <td>144.968565</td>\n",
       "      <td>[{'id': '4bf58dd8d48988d196941735', 'name': 'H...</td>\n",
       "    </tr>\n",
       "    <tr>\n",
       "      <th>3</th>\n",
       "      <td>Hospitality Training Victoria</td>\n",
       "      <td>-37.815527</td>\n",
       "      <td>144.965723</td>\n",
       "      <td>[{'id': '4bf58dd8d48988d1a2941735', 'name': 'C...</td>\n",
       "    </tr>\n",
       "    <tr>\n",
       "      <th>4</th>\n",
       "      <td>Hospitality Training Australia</td>\n",
       "      <td>-37.815673</td>\n",
       "      <td>144.965747</td>\n",
       "      <td>[{'id': '4bf58dd8d48988d124941735', 'name': 'O...</td>\n",
       "    </tr>\n",
       "  </tbody>\n",
       "</table>\n",
       "</div>"
      ],
      "text/plain": [
       "                             name  location.lat  location.lng  \\\n",
       "0  Dr.J.Delgado Memorial Hospital    -37.815608    144.972043   \n",
       "1          Asian Medical Hospital    -37.815609    144.972044   \n",
       "2                Central Hospital    -37.812964    144.968565   \n",
       "3   Hospitality Training Victoria    -37.815527    144.965723   \n",
       "4  Hospitality Training Australia    -37.815673    144.965747   \n",
       "\n",
       "                                          categories  \n",
       "0  [{'id': '4bf58dd8d48988d196941735', 'name': 'H...  \n",
       "1  [{'id': '4bf58dd8d48988d196941735', 'name': 'H...  \n",
       "2  [{'id': '4bf58dd8d48988d196941735', 'name': 'H...  \n",
       "3  [{'id': '4bf58dd8d48988d1a2941735', 'name': 'C...  \n",
       "4  [{'id': '4bf58dd8d48988d124941735', 'name': 'O...  "
      ]
     },
     "execution_count": 9,
     "metadata": {},
     "output_type": "execute_result"
    }
   ],
   "source": [
    "search_query = 'Hospital'\n",
    "suburb = 'MELBOURNE'\n",
    "latitude = loc_df[loc_df['suburb'] == suburb]['lat'].values[0]\n",
    "longitude = loc_df[loc_df['suburb'] == suburb]['lon'].values[0]\n",
    "radius = 500\n",
    "\n",
    "\n",
    "url = 'https://api.foursquare.com/v2/venues/search?client_id={}&client_secret={}&ll={},{}&v={}&query={}&radius={}&limit={}'.format(CLIENT_ID, CLIENT_SECRET, latitude, longitude, VERSION, search_query, radius, LIMIT)\n",
    "results = requests.get(url).json()\n",
    "# assign relevant part of JSON to venues\n",
    "venues = results['response']['venues']\n",
    "\n",
    "# tranform venues into a dataframe\n",
    "dataframe = json_normalize(venues)[['name','location.lat','location.lng','categories']]\n",
    "dataframe.head()\n"
   ]
  },
  {
   "cell_type": "code",
   "execution_count": 10,
   "metadata": {},
   "outputs": [
    {
     "data": {
      "text/html": [
       "<div>\n",
       "<style scoped>\n",
       "    .dataframe tbody tr th:only-of-type {\n",
       "        vertical-align: middle;\n",
       "    }\n",
       "\n",
       "    .dataframe tbody tr th {\n",
       "        vertical-align: top;\n",
       "    }\n",
       "\n",
       "    .dataframe thead th {\n",
       "        text-align: right;\n",
       "    }\n",
       "</style>\n",
       "<table border=\"1\" class=\"dataframe\">\n",
       "  <thead>\n",
       "    <tr style=\"text-align: right;\">\n",
       "      <th></th>\n",
       "      <th>name</th>\n",
       "      <th>location.lat</th>\n",
       "      <th>location.lng</th>\n",
       "      <th>categories</th>\n",
       "    </tr>\n",
       "  </thead>\n",
       "  <tbody>\n",
       "    <tr>\n",
       "      <th>0</th>\n",
       "      <td>Dr.J.Delgado Memorial Hospital</td>\n",
       "      <td>-37.815608</td>\n",
       "      <td>144.972043</td>\n",
       "      <td>Hospital</td>\n",
       "    </tr>\n",
       "    <tr>\n",
       "      <th>1</th>\n",
       "      <td>Asian Medical Hospital</td>\n",
       "      <td>-37.815609</td>\n",
       "      <td>144.972044</td>\n",
       "      <td>Hospital</td>\n",
       "    </tr>\n",
       "    <tr>\n",
       "      <th>2</th>\n",
       "      <td>Central Hospital</td>\n",
       "      <td>-37.812964</td>\n",
       "      <td>144.968565</td>\n",
       "      <td>Hospital</td>\n",
       "    </tr>\n",
       "    <tr>\n",
       "      <th>3</th>\n",
       "      <td>Hospitality Training Victoria</td>\n",
       "      <td>-37.815527</td>\n",
       "      <td>144.965723</td>\n",
       "      <td>Community College</td>\n",
       "    </tr>\n",
       "    <tr>\n",
       "      <th>4</th>\n",
       "      <td>Hospitality Training Australia</td>\n",
       "      <td>-37.815673</td>\n",
       "      <td>144.965747</td>\n",
       "      <td>Office</td>\n",
       "    </tr>\n",
       "  </tbody>\n",
       "</table>\n",
       "</div>"
      ],
      "text/plain": [
       "                             name  location.lat  location.lng  \\\n",
       "0  Dr.J.Delgado Memorial Hospital    -37.815608    144.972043   \n",
       "1          Asian Medical Hospital    -37.815609    144.972044   \n",
       "2                Central Hospital    -37.812964    144.968565   \n",
       "3   Hospitality Training Victoria    -37.815527    144.965723   \n",
       "4  Hospitality Training Australia    -37.815673    144.965747   \n",
       "\n",
       "          categories  \n",
       "0           Hospital  \n",
       "1           Hospital  \n",
       "2           Hospital  \n",
       "3  Community College  \n",
       "4             Office  "
      ]
     },
     "execution_count": 10,
     "metadata": {},
     "output_type": "execute_result"
    }
   ],
   "source": [
    "#Cleaning the categories column\n",
    "\n",
    "def clean_category(x):\n",
    "    if len(x) == 0:\n",
    "        x_cleaned = -1\n",
    "    else:\n",
    "        x_cleaned = x[0]['name']\n",
    "        \n",
    "    return x_cleaned\n",
    "dataframe['categories'] = dataframe['categories'].apply(clean_category)\n",
    "dataframe.head()"
   ]
  },
  {
   "cell_type": "code",
   "execution_count": 11,
   "metadata": {},
   "outputs": [
    {
     "data": {
      "text/html": [
       "<div style=\"width:100%;\"><div style=\"position:relative;width:100%;height:0;padding-bottom:60%;\"><span style=\"color:#565656\">Make this Notebook Trusted to load map: File -> Trust Notebook</span><iframe src=\"about:blank\" style=\"position:absolute;width:100%;height:100%;left:0;top:0;border:none !important;\" data-html=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 onload=\"this.contentDocument.open();this.contentDocument.write(atob(this.getAttribute('data-html')));this.contentDocument.close();\" allowfullscreen webkitallowfullscreen mozallowfullscreen></iframe></div></div>"
      ],
      "text/plain": [
       "<folium.folium.Map at 0x1a0aca93610>"
      ]
     },
     "execution_count": 11,
     "metadata": {},
     "output_type": "execute_result"
    }
   ],
   "source": [
    "#Keep only hospitals\n",
    "dataframe = dataframe[dataframe['categories'] == 'Hospital']\n",
    "\n",
    "#Visualize\n",
    "map = folium.Map(location=[latitude, longitude], zoom_start=15)\n",
    "\n",
    "# add markers to map\n",
    "for lat, lng, name in zip(dataframe['location.lat'], dataframe['location.lng'], dataframe['name']):\n",
    "    label = name\n",
    "    label = folium.Popup(label, parse_html=True)\n",
    "    folium.CircleMarker(\n",
    "        [lat, lng],\n",
    "        radius=5,\n",
    "        popup=label,\n",
    "        color='blue',\n",
    "        fill=True,\n",
    "        fill_color='#3186cc',\n",
    "        fill_opacity=0.7,\n",
    "        parse_html=False).add_to(map)  \n",
    "    \n",
    "map"
   ]
  },
  {
   "cell_type": "markdown",
   "metadata": {},
   "source": [
    "### Add pharmecies to the map in red"
   ]
  },
  {
   "cell_type": "code",
   "execution_count": 12,
   "metadata": {},
   "outputs": [
    {
     "name": "stderr",
     "output_type": "stream",
     "text": [
      "<ipython-input-12-70c59eb5f245>:14: FutureWarning: pandas.io.json.json_normalize is deprecated, use pandas.json_normalize instead\n",
      "  dataframe = json_normalize(venues)[['name','location.lat','location.lng','categories']]\n"
     ]
    },
    {
     "data": {
      "text/html": [
       "<div style=\"width:100%;\"><div style=\"position:relative;width:100%;height:0;padding-bottom:60%;\"><span style=\"color:#565656\">Make this Notebook Trusted to load map: File -> Trust Notebook</span><iframe src=\"about:blank\" style=\"position:absolute;width:100%;height:100%;left:0;top:0;border:none !important;\" data-html=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 onload=\"this.contentDocument.open();this.contentDocument.write(atob(this.getAttribute('data-html')));this.contentDocument.close();\" allowfullscreen webkitallowfullscreen mozallowfullscreen></iframe></div></div>"
      ],
      "text/plain": [
       "<folium.folium.Map at 0x1a0aca93610>"
      ]
     },
     "execution_count": 12,
     "metadata": {},
     "output_type": "execute_result"
    }
   ],
   "source": [
    "search_query = 'Pharmacy'\n",
    "suburb = 'MELBOURNE'\n",
    "latitude = loc_df[loc_df['suburb'] == suburb]['lat'].values[0]\n",
    "longitude = loc_df[loc_df['suburb'] == suburb]['lon'].values[0]\n",
    "radius = 500\n",
    "\n",
    "\n",
    "url = 'https://api.foursquare.com/v2/venues/search?client_id={}&client_secret={}&ll={},{}&v={}&query={}&radius={}&limit={}'.format(CLIENT_ID, CLIENT_SECRET, latitude, longitude, VERSION, search_query, radius, LIMIT)\n",
    "results = requests.get(url).json()\n",
    "# assign relevant part of JSON to venues\n",
    "venues = results['response']['venues']\n",
    "\n",
    "# tranform venues into a dataframe\n",
    "dataframe = json_normalize(venues)[['name','location.lat','location.lng','categories']]\n",
    "dataframe['categories'] = dataframe['categories'].apply(clean_category)\n",
    "\n",
    "# add markers to map\n",
    "for lat, lng, name in zip(dataframe['location.lat'], dataframe['location.lng'], dataframe['name']):\n",
    "    label = name\n",
    "    label = folium.Popup(label, parse_html=True)\n",
    "    folium.CircleMarker(\n",
    "        [lat, lng],\n",
    "        radius=5,\n",
    "        popup=label,\n",
    "        color='red',\n",
    "        fill=True,\n",
    "        fill_color='#3186cc',\n",
    "        fill_opacity=0.7,\n",
    "        parse_html=False).add_to(map)  \n",
    "    \n",
    "map"
   ]
  },
  {
   "cell_type": "markdown",
   "metadata": {},
   "source": [
    "## Visualize medical centers in a suburb"
   ]
  },
  {
   "cell_type": "code",
   "execution_count": 13,
   "metadata": {},
   "outputs": [
    {
     "name": "stderr",
     "output_type": "stream",
     "text": [
      "<ipython-input-13-9b0106715496>:26: FutureWarning: pandas.io.json.json_normalize is deprecated, use pandas.json_normalize instead\n",
      "  dataframe = json_normalize(venues)[['name','location.lat','location.lng','categories']]\n"
     ]
    },
    {
     "data": {
      "text/html": [
       "<div>\n",
       "<style scoped>\n",
       "    .dataframe tbody tr th:only-of-type {\n",
       "        vertical-align: middle;\n",
       "    }\n",
       "\n",
       "    .dataframe tbody tr th {\n",
       "        vertical-align: top;\n",
       "    }\n",
       "\n",
       "    .dataframe thead th {\n",
       "        text-align: right;\n",
       "    }\n",
       "</style>\n",
       "<table border=\"1\" class=\"dataframe\">\n",
       "  <thead>\n",
       "    <tr style=\"text-align: right;\">\n",
       "      <th></th>\n",
       "      <th>name</th>\n",
       "      <th>location.lat</th>\n",
       "      <th>location.lng</th>\n",
       "      <th>categories</th>\n",
       "    </tr>\n",
       "  </thead>\n",
       "  <tbody>\n",
       "    <tr>\n",
       "      <th>0</th>\n",
       "      <td>Eye surgery Associates</td>\n",
       "      <td>-37.773645</td>\n",
       "      <td>145.116016</td>\n",
       "      <td>Doctor's Office</td>\n",
       "    </tr>\n",
       "    <tr>\n",
       "      <th>1</th>\n",
       "      <td>Myhealth Medical Centre</td>\n",
       "      <td>-37.785149</td>\n",
       "      <td>145.125294</td>\n",
       "      <td>Doctor's Office</td>\n",
       "    </tr>\n",
       "    <tr>\n",
       "      <th>2</th>\n",
       "      <td>St George Specialist Clinic For Women</td>\n",
       "      <td>-37.775124</td>\n",
       "      <td>145.124096</td>\n",
       "      <td>Medical Center</td>\n",
       "    </tr>\n",
       "    <tr>\n",
       "      <th>3</th>\n",
       "      <td>Vic Medical Doctors</td>\n",
       "      <td>-37.786453</td>\n",
       "      <td>145.125400</td>\n",
       "      <td>Doctor's Office</td>\n",
       "    </tr>\n",
       "  </tbody>\n",
       "</table>\n",
       "</div>"
      ],
      "text/plain": [
       "                                    name  location.lat  location.lng  \\\n",
       "0                 Eye surgery Associates    -37.773645    145.116016   \n",
       "1                Myhealth Medical Centre    -37.785149    145.125294   \n",
       "2  St George Specialist Clinic For Women    -37.775124    145.124096   \n",
       "3                    Vic Medical Doctors    -37.786453    145.125400   \n",
       "\n",
       "        categories  \n",
       "0  Doctor's Office  \n",
       "1  Doctor's Office  \n",
       "2   Medical Center  \n",
       "3  Doctor's Office  "
      ]
     },
     "execution_count": 13,
     "metadata": {},
     "output_type": "execute_result"
    }
   ],
   "source": [
    "def filter_results(dataframe,queries):\n",
    "    df_filtered = pd.DataFrame()\n",
    "    \n",
    "    for query in queries:\n",
    "        df_filtered = df_filtered.append(dataframe[dataframe['categories'] == query] , ignore_index=True)\n",
    "    \n",
    "    df_filtered = df_filtered.groupby(['name']).first().reset_index()\n",
    "    return df_filtered\n",
    "\n",
    "search_queries = ['Acupuncturist','Alternative Healer','Chiropractor',\"Dentist's Office\",\"Doctor's Office\",'Eye Doctor',\n",
    "                 'Hospital','Maternity Clinic','Medical Lab','Mental Health Office','Nutritionist','Physical Therapist',\n",
    "                 'Rehab Center','Veterinarian','Medical Center']\n",
    "suburb = 'DONCASTER'\n",
    "latitude = loc_df[loc_df['suburb'] == suburb]['lat'].values[0]\n",
    "longitude = loc_df[loc_df['suburb'] == suburb]['lon'].values[0]\n",
    "radius = 1000\n",
    "df = pd.DataFrame()\n",
    "for search_query in search_queries:\n",
    "    url = 'https://api.foursquare.com/v2/venues/search?client_id={}&client_secret={}&ll={},{}&v={}&query={}&radius={}&limit={}'.format(CLIENT_ID, CLIENT_SECRET, latitude, longitude, VERSION, search_query, radius, LIMIT)\n",
    "    results = requests.get(url).json()\n",
    "    # assign relevant part of JSON to venues\n",
    "    venues = results['response']['venues']\n",
    "    \n",
    "    try:\n",
    "        # tranform venues into a dataframe\n",
    "        dataframe = json_normalize(venues)[['name','location.lat','location.lng','categories']]\n",
    "        dataframe['categories'] = dataframe['categories'].apply(clean_category)\n",
    "        \n",
    "        df = df.append(dataframe, ignore_index=True)\n",
    "    except:\n",
    "        pass\n",
    "\n",
    "#Remove irrelavant results\n",
    "df = filter_results(df,search_queries)\n",
    "df"
   ]
  },
  {
   "cell_type": "code",
   "execution_count": 14,
   "metadata": {},
   "outputs": [
    {
     "data": {
      "text/html": [
       "<div style=\"width:100%;\"><div style=\"position:relative;width:100%;height:0;padding-bottom:60%;\"><span style=\"color:#565656\">Make this Notebook Trusted to load map: File -> Trust Notebook</span><iframe src=\"about:blank\" style=\"position:absolute;width:100%;height:100%;left:0;top:0;border:none !important;\" data-html=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 onload=\"this.contentDocument.open();this.contentDocument.write(atob(this.getAttribute('data-html')));this.contentDocument.close();\" allowfullscreen webkitallowfullscreen mozallowfullscreen></iframe></div></div>"
      ],
      "text/plain": [
       "<folium.folium.Map at 0x1a0acab1190>"
      ]
     },
     "execution_count": 14,
     "metadata": {},
     "output_type": "execute_result"
    }
   ],
   "source": [
    "#Visualize\n",
    "map = folium.Map(location=[latitude, longitude], zoom_start=14)\n",
    "\n",
    "# add markers to map\n",
    "for lat, lng, name, cat in zip(df['location.lat'], df['location.lng'], df['name'], df['categories']):\n",
    "    label = name + '-' + cat\n",
    "    label = folium.Popup(label, parse_html=True)\n",
    "    folium.CircleMarker(\n",
    "        [lat, lng],\n",
    "        radius=5,\n",
    "        popup=label,\n",
    "        color='blue',\n",
    "        fill=True,\n",
    "        fill_color='#3186cc',\n",
    "        fill_opacity=0.7,\n",
    "        parse_html=False).add_to(map)  \n",
    "    \n",
    "map"
   ]
  },
  {
   "cell_type": "markdown",
   "metadata": {},
   "source": [
    "## Finding the closest medical centers (a hospital as an example) to a location"
   ]
  },
  {
   "cell_type": "code",
   "execution_count": 15,
   "metadata": {},
   "outputs": [
    {
     "name": "stderr",
     "output_type": "stream",
     "text": [
      "<ipython-input-15-950dd5359acd>:13: FutureWarning: pandas.io.json.json_normalize is deprecated, use pandas.json_normalize instead\n",
      "  dataframe = json_normalize(venues)[['id','name','location.lat','location.lng','categories','location.distance']]\n"
     ]
    },
    {
     "data": {
      "text/html": [
       "<div>\n",
       "<style scoped>\n",
       "    .dataframe tbody tr th:only-of-type {\n",
       "        vertical-align: middle;\n",
       "    }\n",
       "\n",
       "    .dataframe tbody tr th {\n",
       "        vertical-align: top;\n",
       "    }\n",
       "\n",
       "    .dataframe thead th {\n",
       "        text-align: right;\n",
       "    }\n",
       "</style>\n",
       "<table border=\"1\" class=\"dataframe\">\n",
       "  <thead>\n",
       "    <tr style=\"text-align: right;\">\n",
       "      <th></th>\n",
       "      <th>id</th>\n",
       "      <th>name</th>\n",
       "      <th>location.lat</th>\n",
       "      <th>location.lng</th>\n",
       "      <th>categories</th>\n",
       "      <th>location.distance</th>\n",
       "    </tr>\n",
       "  </thead>\n",
       "  <tbody>\n",
       "    <tr>\n",
       "      <th>0</th>\n",
       "      <td>4b9ed98cf964a5201b0637e3</td>\n",
       "      <td>Epworth Eastern Hospital</td>\n",
       "      <td>-37.814600</td>\n",
       "      <td>145.119292</td>\n",
       "      <td>Hospital</td>\n",
       "      <td>3525</td>\n",
       "    </tr>\n",
       "    <tr>\n",
       "      <th>1</th>\n",
       "      <td>4b0e4609f964a520835623e3</td>\n",
       "      <td>Box Hill Hospital</td>\n",
       "      <td>-37.813950</td>\n",
       "      <td>145.118819</td>\n",
       "      <td>Hospital</td>\n",
       "      <td>3457</td>\n",
       "    </tr>\n",
       "    <tr>\n",
       "      <th>2</th>\n",
       "      <td>51206544e4b027095e549294</td>\n",
       "      <td>Birralee - Box Hill Hospital</td>\n",
       "      <td>-37.810331</td>\n",
       "      <td>145.117596</td>\n",
       "      <td>Hospital</td>\n",
       "      <td>3069</td>\n",
       "    </tr>\n",
       "    <tr>\n",
       "      <th>3</th>\n",
       "      <td>504d84e3e4b086b5995081c3</td>\n",
       "      <td>Box Hill Hospital - Delivery Suites</td>\n",
       "      <td>-37.812478</td>\n",
       "      <td>145.120139</td>\n",
       "      <td>Hospital</td>\n",
       "      <td>3284</td>\n",
       "    </tr>\n",
       "    <tr>\n",
       "      <th>6</th>\n",
       "      <td>504fbce1e4b0fb6d8f9c44cf</td>\n",
       "      <td>Box Hill Hospital - Operating  Theatre</td>\n",
       "      <td>-37.813229</td>\n",
       "      <td>145.119902</td>\n",
       "      <td>Hospital</td>\n",
       "      <td>3369</td>\n",
       "    </tr>\n",
       "    <tr>\n",
       "      <th>7</th>\n",
       "      <td>4e783fbe7d8b90e441f7a208</td>\n",
       "      <td>4 West Box Hill Hospital</td>\n",
       "      <td>-37.813769</td>\n",
       "      <td>145.119029</td>\n",
       "      <td>Hospital</td>\n",
       "      <td>3435</td>\n",
       "    </tr>\n",
       "    <tr>\n",
       "      <th>11</th>\n",
       "      <td>4babf1faf964a520e8d73ae3</td>\n",
       "      <td>Epworth Hospital - NeuroDiagnostics Unit</td>\n",
       "      <td>-37.814646</td>\n",
       "      <td>145.118769</td>\n",
       "      <td>Hospital</td>\n",
       "      <td>3534</td>\n",
       "    </tr>\n",
       "    <tr>\n",
       "      <th>12</th>\n",
       "      <td>5223df5411d2bc86b1b8fdc4</td>\n",
       "      <td>Eastern Health Care, Boxhill Hospital</td>\n",
       "      <td>-37.817425</td>\n",
       "      <td>145.117630</td>\n",
       "      <td>Hospital</td>\n",
       "      <td>3852</td>\n",
       "    </tr>\n",
       "  </tbody>\n",
       "</table>\n",
       "</div>"
      ],
      "text/plain": [
       "                          id                                      name  \\\n",
       "0   4b9ed98cf964a5201b0637e3                  Epworth Eastern Hospital   \n",
       "1   4b0e4609f964a520835623e3                         Box Hill Hospital   \n",
       "2   51206544e4b027095e549294              Birralee - Box Hill Hospital   \n",
       "3   504d84e3e4b086b5995081c3       Box Hill Hospital - Delivery Suites   \n",
       "6   504fbce1e4b0fb6d8f9c44cf    Box Hill Hospital - Operating  Theatre   \n",
       "7   4e783fbe7d8b90e441f7a208                  4 West Box Hill Hospital   \n",
       "11  4babf1faf964a520e8d73ae3  Epworth Hospital - NeuroDiagnostics Unit   \n",
       "12  5223df5411d2bc86b1b8fdc4     Eastern Health Care, Boxhill Hospital   \n",
       "\n",
       "    location.lat  location.lng categories  location.distance  \n",
       "0     -37.814600    145.119292   Hospital               3525  \n",
       "1     -37.813950    145.118819   Hospital               3457  \n",
       "2     -37.810331    145.117596   Hospital               3069  \n",
       "3     -37.812478    145.120139   Hospital               3284  \n",
       "6     -37.813229    145.119902   Hospital               3369  \n",
       "7     -37.813769    145.119029   Hospital               3435  \n",
       "11    -37.814646    145.118769   Hospital               3534  \n",
       "12    -37.817425    145.117630   Hospital               3852  "
      ]
     },
     "execution_count": 15,
     "metadata": {},
     "output_type": "execute_result"
    }
   ],
   "source": [
    "search_query = 'Hospital'\n",
    "latitude = -37.783031\n",
    "longitude = 145.122517\n",
    "radius = 3000\n",
    "\n",
    "\n",
    "url = 'https://api.foursquare.com/v2/venues/search?client_id={}&client_secret={}&ll={},{}&v={}&query={}&radius={}&limit={}'.format(CLIENT_ID, CLIENT_SECRET, latitude, longitude, VERSION, search_query, radius, LIMIT)\n",
    "results = requests.get(url).json()\n",
    "# assign relevant part of JSON to venues\n",
    "venues = results['response']['venues']\n",
    "\n",
    "# tranform venues into a dataframe\n",
    "dataframe = json_normalize(venues)[['id','name','location.lat','location.lng','categories','location.distance']]\n",
    "dataframe['categories'] = dataframe['categories'].apply(clean_category)\n",
    "dataframe = dataframe[dataframe['categories'] == 'Hospital']\n",
    "dataframe"
   ]
  },
  {
   "cell_type": "code",
   "execution_count": 16,
   "metadata": {},
   "outputs": [],
   "source": [
    "#A function that retrieves rating for a venue\n",
    "def get_rating(venue_id):\n",
    "    \n",
    "    url = 'https://api.foursquare.com/v2/venues/{}?client_id={}&client_secret={}&v={}'.format(venue_id, CLIENT_ID, CLIENT_SECRET, VERSION)\n",
    "    result = requests.get(url).json()\n",
    "    try:\n",
    "        rating = result['response']['venue']['rating']\n",
    "    except:\n",
    "        rating = 'NA'\n",
    "        \n",
    "    return rating"
   ]
  },
  {
   "cell_type": "code",
   "execution_count": 17,
   "metadata": {},
   "outputs": [
    {
     "data": {
      "text/html": [
       "<div>\n",
       "<style scoped>\n",
       "    .dataframe tbody tr th:only-of-type {\n",
       "        vertical-align: middle;\n",
       "    }\n",
       "\n",
       "    .dataframe tbody tr th {\n",
       "        vertical-align: top;\n",
       "    }\n",
       "\n",
       "    .dataframe thead th {\n",
       "        text-align: right;\n",
       "    }\n",
       "</style>\n",
       "<table border=\"1\" class=\"dataframe\">\n",
       "  <thead>\n",
       "    <tr style=\"text-align: right;\">\n",
       "      <th></th>\n",
       "      <th>Name</th>\n",
       "      <th>Category</th>\n",
       "      <th>Distance</th>\n",
       "      <th>Rating</th>\n",
       "    </tr>\n",
       "  </thead>\n",
       "  <tbody>\n",
       "    <tr>\n",
       "      <th>0</th>\n",
       "      <td>Epworth Eastern Hospital</td>\n",
       "      <td>Hospital</td>\n",
       "      <td>3525</td>\n",
       "      <td>NA</td>\n",
       "    </tr>\n",
       "    <tr>\n",
       "      <th>1</th>\n",
       "      <td>Box Hill Hospital</td>\n",
       "      <td>Hospital</td>\n",
       "      <td>3457</td>\n",
       "      <td>NA</td>\n",
       "    </tr>\n",
       "    <tr>\n",
       "      <th>2</th>\n",
       "      <td>Birralee - Box Hill Hospital</td>\n",
       "      <td>Hospital</td>\n",
       "      <td>3069</td>\n",
       "      <td>NA</td>\n",
       "    </tr>\n",
       "    <tr>\n",
       "      <th>3</th>\n",
       "      <td>Box Hill Hospital - Delivery Suites</td>\n",
       "      <td>Hospital</td>\n",
       "      <td>3284</td>\n",
       "      <td>NA</td>\n",
       "    </tr>\n",
       "    <tr>\n",
       "      <th>6</th>\n",
       "      <td>Box Hill Hospital - Operating  Theatre</td>\n",
       "      <td>Hospital</td>\n",
       "      <td>3369</td>\n",
       "      <td>NA</td>\n",
       "    </tr>\n",
       "    <tr>\n",
       "      <th>7</th>\n",
       "      <td>4 West Box Hill Hospital</td>\n",
       "      <td>Hospital</td>\n",
       "      <td>3435</td>\n",
       "      <td>NA</td>\n",
       "    </tr>\n",
       "    <tr>\n",
       "      <th>11</th>\n",
       "      <td>Epworth Hospital - NeuroDiagnostics Unit</td>\n",
       "      <td>Hospital</td>\n",
       "      <td>3534</td>\n",
       "      <td>NA</td>\n",
       "    </tr>\n",
       "    <tr>\n",
       "      <th>12</th>\n",
       "      <td>Eastern Health Care, Boxhill Hospital</td>\n",
       "      <td>Hospital</td>\n",
       "      <td>3852</td>\n",
       "      <td>NA</td>\n",
       "    </tr>\n",
       "  </tbody>\n",
       "</table>\n",
       "</div>"
      ],
      "text/plain": [
       "                                        Name  Category  Distance Rating\n",
       "0                   Epworth Eastern Hospital  Hospital      3525     NA\n",
       "1                          Box Hill Hospital  Hospital      3457     NA\n",
       "2               Birralee - Box Hill Hospital  Hospital      3069     NA\n",
       "3        Box Hill Hospital - Delivery Suites  Hospital      3284     NA\n",
       "6     Box Hill Hospital - Operating  Theatre  Hospital      3369     NA\n",
       "7                   4 West Box Hill Hospital  Hospital      3435     NA\n",
       "11  Epworth Hospital - NeuroDiagnostics Unit  Hospital      3534     NA\n",
       "12     Eastern Health Care, Boxhill Hospital  Hospital      3852     NA"
      ]
     },
     "execution_count": 17,
     "metadata": {},
     "output_type": "execute_result"
    }
   ],
   "source": [
    "#Create results dataframe\n",
    "df = pd.DataFrame()\n",
    "df['Name'] = dataframe['name']\n",
    "df['Category'] = dataframe['categories']\n",
    "df['Distance'] = dataframe['location.distance']\n",
    "df['Rating'] = dataframe['id'].apply(get_rating)\n",
    "df"
   ]
  },
  {
   "cell_type": "markdown",
   "metadata": {},
   "source": [
    "### Remove redundant rows and add private or public tag"
   ]
  },
  {
   "cell_type": "code",
   "execution_count": 18,
   "metadata": {},
   "outputs": [
    {
     "ename": "FileNotFoundError",
     "evalue": "[Errno 2] File Hospital_Locations.csv does not exist: 'Hospital_Locations.csv'",
     "output_type": "error",
     "traceback": [
      "\u001b[1;31m---------------------------------------------------------------------------\u001b[0m",
      "\u001b[1;31mFileNotFoundError\u001b[0m                         Traceback (most recent call last)",
      "\u001b[1;32m<ipython-input-18-a8c2c3030c48>\u001b[0m in \u001b[0;36m<module>\u001b[1;34m\u001b[0m\n\u001b[1;32m----> 1\u001b[1;33m \u001b[0mhospitals_df\u001b[0m \u001b[1;33m=\u001b[0m \u001b[0mpd\u001b[0m\u001b[1;33m.\u001b[0m\u001b[0mread_csv\u001b[0m\u001b[1;33m(\u001b[0m\u001b[1;34m'Hospital_Locations.csv'\u001b[0m\u001b[1;33m)\u001b[0m\u001b[1;33m\u001b[0m\u001b[1;33m\u001b[0m\u001b[0m\n\u001b[0m\u001b[0;32m      2\u001b[0m \u001b[0mhospitals_df\u001b[0m\u001b[1;33m.\u001b[0m\u001b[0mhead\u001b[0m\u001b[1;33m(\u001b[0m\u001b[1;33m)\u001b[0m\u001b[1;33m\u001b[0m\u001b[1;33m\u001b[0m\u001b[0m\n",
      "\u001b[1;32m~\\anaconda3\\lib\\site-packages\\pandas\\io\\parsers.py\u001b[0m in \u001b[0;36mparser_f\u001b[1;34m(filepath_or_buffer, sep, delimiter, header, names, index_col, usecols, squeeze, prefix, mangle_dupe_cols, dtype, engine, converters, true_values, false_values, skipinitialspace, skiprows, skipfooter, nrows, na_values, keep_default_na, na_filter, verbose, skip_blank_lines, parse_dates, infer_datetime_format, keep_date_col, date_parser, dayfirst, cache_dates, iterator, chunksize, compression, thousands, decimal, lineterminator, quotechar, quoting, doublequote, escapechar, comment, encoding, dialect, error_bad_lines, warn_bad_lines, delim_whitespace, low_memory, memory_map, float_precision)\u001b[0m\n\u001b[0;32m    674\u001b[0m         )\n\u001b[0;32m    675\u001b[0m \u001b[1;33m\u001b[0m\u001b[0m\n\u001b[1;32m--> 676\u001b[1;33m         \u001b[1;32mreturn\u001b[0m \u001b[0m_read\u001b[0m\u001b[1;33m(\u001b[0m\u001b[0mfilepath_or_buffer\u001b[0m\u001b[1;33m,\u001b[0m \u001b[0mkwds\u001b[0m\u001b[1;33m)\u001b[0m\u001b[1;33m\u001b[0m\u001b[1;33m\u001b[0m\u001b[0m\n\u001b[0m\u001b[0;32m    677\u001b[0m \u001b[1;33m\u001b[0m\u001b[0m\n\u001b[0;32m    678\u001b[0m     \u001b[0mparser_f\u001b[0m\u001b[1;33m.\u001b[0m\u001b[0m__name__\u001b[0m \u001b[1;33m=\u001b[0m \u001b[0mname\u001b[0m\u001b[1;33m\u001b[0m\u001b[1;33m\u001b[0m\u001b[0m\n",
      "\u001b[1;32m~\\anaconda3\\lib\\site-packages\\pandas\\io\\parsers.py\u001b[0m in \u001b[0;36m_read\u001b[1;34m(filepath_or_buffer, kwds)\u001b[0m\n\u001b[0;32m    446\u001b[0m \u001b[1;33m\u001b[0m\u001b[0m\n\u001b[0;32m    447\u001b[0m     \u001b[1;31m# Create the parser.\u001b[0m\u001b[1;33m\u001b[0m\u001b[1;33m\u001b[0m\u001b[1;33m\u001b[0m\u001b[0m\n\u001b[1;32m--> 448\u001b[1;33m     \u001b[0mparser\u001b[0m \u001b[1;33m=\u001b[0m \u001b[0mTextFileReader\u001b[0m\u001b[1;33m(\u001b[0m\u001b[0mfp_or_buf\u001b[0m\u001b[1;33m,\u001b[0m \u001b[1;33m**\u001b[0m\u001b[0mkwds\u001b[0m\u001b[1;33m)\u001b[0m\u001b[1;33m\u001b[0m\u001b[1;33m\u001b[0m\u001b[0m\n\u001b[0m\u001b[0;32m    449\u001b[0m \u001b[1;33m\u001b[0m\u001b[0m\n\u001b[0;32m    450\u001b[0m     \u001b[1;32mif\u001b[0m \u001b[0mchunksize\u001b[0m \u001b[1;32mor\u001b[0m \u001b[0miterator\u001b[0m\u001b[1;33m:\u001b[0m\u001b[1;33m\u001b[0m\u001b[1;33m\u001b[0m\u001b[0m\n",
      "\u001b[1;32m~\\anaconda3\\lib\\site-packages\\pandas\\io\\parsers.py\u001b[0m in \u001b[0;36m__init__\u001b[1;34m(self, f, engine, **kwds)\u001b[0m\n\u001b[0;32m    878\u001b[0m             \u001b[0mself\u001b[0m\u001b[1;33m.\u001b[0m\u001b[0moptions\u001b[0m\u001b[1;33m[\u001b[0m\u001b[1;34m\"has_index_names\"\u001b[0m\u001b[1;33m]\u001b[0m \u001b[1;33m=\u001b[0m \u001b[0mkwds\u001b[0m\u001b[1;33m[\u001b[0m\u001b[1;34m\"has_index_names\"\u001b[0m\u001b[1;33m]\u001b[0m\u001b[1;33m\u001b[0m\u001b[1;33m\u001b[0m\u001b[0m\n\u001b[0;32m    879\u001b[0m \u001b[1;33m\u001b[0m\u001b[0m\n\u001b[1;32m--> 880\u001b[1;33m         \u001b[0mself\u001b[0m\u001b[1;33m.\u001b[0m\u001b[0m_make_engine\u001b[0m\u001b[1;33m(\u001b[0m\u001b[0mself\u001b[0m\u001b[1;33m.\u001b[0m\u001b[0mengine\u001b[0m\u001b[1;33m)\u001b[0m\u001b[1;33m\u001b[0m\u001b[1;33m\u001b[0m\u001b[0m\n\u001b[0m\u001b[0;32m    881\u001b[0m \u001b[1;33m\u001b[0m\u001b[0m\n\u001b[0;32m    882\u001b[0m     \u001b[1;32mdef\u001b[0m \u001b[0mclose\u001b[0m\u001b[1;33m(\u001b[0m\u001b[0mself\u001b[0m\u001b[1;33m)\u001b[0m\u001b[1;33m:\u001b[0m\u001b[1;33m\u001b[0m\u001b[1;33m\u001b[0m\u001b[0m\n",
      "\u001b[1;32m~\\anaconda3\\lib\\site-packages\\pandas\\io\\parsers.py\u001b[0m in \u001b[0;36m_make_engine\u001b[1;34m(self, engine)\u001b[0m\n\u001b[0;32m   1112\u001b[0m     \u001b[1;32mdef\u001b[0m \u001b[0m_make_engine\u001b[0m\u001b[1;33m(\u001b[0m\u001b[0mself\u001b[0m\u001b[1;33m,\u001b[0m \u001b[0mengine\u001b[0m\u001b[1;33m=\u001b[0m\u001b[1;34m\"c\"\u001b[0m\u001b[1;33m)\u001b[0m\u001b[1;33m:\u001b[0m\u001b[1;33m\u001b[0m\u001b[1;33m\u001b[0m\u001b[0m\n\u001b[0;32m   1113\u001b[0m         \u001b[1;32mif\u001b[0m \u001b[0mengine\u001b[0m \u001b[1;33m==\u001b[0m \u001b[1;34m\"c\"\u001b[0m\u001b[1;33m:\u001b[0m\u001b[1;33m\u001b[0m\u001b[1;33m\u001b[0m\u001b[0m\n\u001b[1;32m-> 1114\u001b[1;33m             \u001b[0mself\u001b[0m\u001b[1;33m.\u001b[0m\u001b[0m_engine\u001b[0m \u001b[1;33m=\u001b[0m \u001b[0mCParserWrapper\u001b[0m\u001b[1;33m(\u001b[0m\u001b[0mself\u001b[0m\u001b[1;33m.\u001b[0m\u001b[0mf\u001b[0m\u001b[1;33m,\u001b[0m \u001b[1;33m**\u001b[0m\u001b[0mself\u001b[0m\u001b[1;33m.\u001b[0m\u001b[0moptions\u001b[0m\u001b[1;33m)\u001b[0m\u001b[1;33m\u001b[0m\u001b[1;33m\u001b[0m\u001b[0m\n\u001b[0m\u001b[0;32m   1115\u001b[0m         \u001b[1;32melse\u001b[0m\u001b[1;33m:\u001b[0m\u001b[1;33m\u001b[0m\u001b[1;33m\u001b[0m\u001b[0m\n\u001b[0;32m   1116\u001b[0m             \u001b[1;32mif\u001b[0m \u001b[0mengine\u001b[0m \u001b[1;33m==\u001b[0m \u001b[1;34m\"python\"\u001b[0m\u001b[1;33m:\u001b[0m\u001b[1;33m\u001b[0m\u001b[1;33m\u001b[0m\u001b[0m\n",
      "\u001b[1;32m~\\anaconda3\\lib\\site-packages\\pandas\\io\\parsers.py\u001b[0m in \u001b[0;36m__init__\u001b[1;34m(self, src, **kwds)\u001b[0m\n\u001b[0;32m   1889\u001b[0m         \u001b[0mkwds\u001b[0m\u001b[1;33m[\u001b[0m\u001b[1;34m\"usecols\"\u001b[0m\u001b[1;33m]\u001b[0m \u001b[1;33m=\u001b[0m \u001b[0mself\u001b[0m\u001b[1;33m.\u001b[0m\u001b[0musecols\u001b[0m\u001b[1;33m\u001b[0m\u001b[1;33m\u001b[0m\u001b[0m\n\u001b[0;32m   1890\u001b[0m \u001b[1;33m\u001b[0m\u001b[0m\n\u001b[1;32m-> 1891\u001b[1;33m         \u001b[0mself\u001b[0m\u001b[1;33m.\u001b[0m\u001b[0m_reader\u001b[0m \u001b[1;33m=\u001b[0m \u001b[0mparsers\u001b[0m\u001b[1;33m.\u001b[0m\u001b[0mTextReader\u001b[0m\u001b[1;33m(\u001b[0m\u001b[0msrc\u001b[0m\u001b[1;33m,\u001b[0m \u001b[1;33m**\u001b[0m\u001b[0mkwds\u001b[0m\u001b[1;33m)\u001b[0m\u001b[1;33m\u001b[0m\u001b[1;33m\u001b[0m\u001b[0m\n\u001b[0m\u001b[0;32m   1892\u001b[0m         \u001b[0mself\u001b[0m\u001b[1;33m.\u001b[0m\u001b[0munnamed_cols\u001b[0m \u001b[1;33m=\u001b[0m \u001b[0mself\u001b[0m\u001b[1;33m.\u001b[0m\u001b[0m_reader\u001b[0m\u001b[1;33m.\u001b[0m\u001b[0munnamed_cols\u001b[0m\u001b[1;33m\u001b[0m\u001b[1;33m\u001b[0m\u001b[0m\n\u001b[0;32m   1893\u001b[0m \u001b[1;33m\u001b[0m\u001b[0m\n",
      "\u001b[1;32mpandas\\_libs\\parsers.pyx\u001b[0m in \u001b[0;36mpandas._libs.parsers.TextReader.__cinit__\u001b[1;34m()\u001b[0m\n",
      "\u001b[1;32mpandas\\_libs\\parsers.pyx\u001b[0m in \u001b[0;36mpandas._libs.parsers.TextReader._setup_parser_source\u001b[1;34m()\u001b[0m\n",
      "\u001b[1;31mFileNotFoundError\u001b[0m: [Errno 2] File Hospital_Locations.csv does not exist: 'Hospital_Locations.csv'"
     ]
    }
   ],
   "source": [
    "hospitals_df = pd.read_csv('Hospital_Locations.csv')\n",
    "hospitals_df.head()"
   ]
  },
  {
   "cell_type": "code",
   "execution_count": null,
   "metadata": {},
   "outputs": [],
   "source": [
    "df = df.merge(hospitals_df[['LabelName','Type']], 'inner', left_on = 'Name', right_on ='LabelName').drop(['LabelName'], axis=1)\n",
    "df"
   ]
  },
  {
   "cell_type": "markdown",
   "metadata": {},
   "source": [
    "## Results \n",
    "We have retrieved the required infromation using variuos databases. This includes creating a map of healthcare centers in a suburb and creating a list of closest service providers.\n",
    "\n",
    "## Discussion\n",
    "There seems to be not enough information about medical centers on Foursquare. Most of the venues seem to be unranked. Adding another database which is more popular amongst users, and has a wider range of information on user experience, might be useful.\n",
    "\n",
    "## Conclusion\n",
    "The goal of this project was to aid users in finding the best medical center near them. We did this by providing a list of different centers in each neighbourhood and creating a list of closest centers to each location."
   ]
  },
  {
   "cell_type": "code",
   "execution_count": null,
   "metadata": {},
   "outputs": [],
   "source": []
  },
  {
   "cell_type": "code",
   "execution_count": null,
   "metadata": {},
   "outputs": [],
   "source": []
  }
 ],
 "metadata": {
  "kernelspec": {
   "display_name": "Python 3",
   "language": "python",
   "name": "python3"
  },
  "language_info": {
   "codemirror_mode": {
    "name": "ipython",
    "version": 3
   },
   "file_extension": ".py",
   "mimetype": "text/x-python",
   "name": "python",
   "nbconvert_exporter": "python",
   "pygments_lexer": "ipython3",
   "version": "3.8.3"
  }
 },
 "nbformat": 4,
 "nbformat_minor": 2
}
